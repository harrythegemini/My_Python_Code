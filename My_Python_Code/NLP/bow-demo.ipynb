{
 "cells": [
  {
   "cell_type": "markdown",
   "id": "d70d3831-a07d-4125-9d0c-63f6bb3b7ccf",
   "metadata": {},
   "source": [
    "## Bag Of Words Feature Representation Demo\n",
    "\n",
    "https://en.wikipedia.org/wiki/Natural_language_processing"
   ]
  },
  {
   "cell_type": "code",
   "execution_count": null,
   "id": "c93f6147",
   "metadata": {},
   "outputs": [],
   "source": [
    "import requests\n",
    "\n",
    "url = \"https://en.wikipedia.org/wiki/Natural_language_processing\"\n",
    "resp = requests.get(url)\n",
    "text = resp.text.lower()\n",
    "text[:3000]"
   ]
  },
  {
   "cell_type": "markdown",
   "id": "a739e491-da90-4fdf-8ed6-cbaccdeb1674",
   "metadata": {},
   "source": [
    "### Light text sanitization w/regular expressions"
   ]
  },
  {
   "cell_type": "code",
   "execution_count": null,
   "id": "23ce02cf",
   "metadata": {},
   "outputs": [],
   "source": [
    "import re\n",
    "\n",
    "patterns = [r'\\|', r'\\.', r'\\,', r'\\*', r'\\-', r'\\:', r'\\#', r'\\n', r'\\t', r'<[^>]+>', r'\"', r'\\'', r'\\[', r'\\]', r'\\{', r'\\}', r'\\!', r'\\s+']\n",
    "repl = ' '\n",
    "for p in patterns:\n",
    "    text = re.sub(p, repl, text).strip()\n",
    "text[:3000]"
   ]
  },
  {
   "cell_type": "markdown",
   "id": "60c4ded2-9db5-4d45-adfa-7a598880f1d3",
   "metadata": {},
   "source": [
    "### Compute histogram of words"
   ]
  },
  {
   "cell_type": "code",
   "execution_count": null,
   "id": "ab252432",
   "metadata": {},
   "outputs": [],
   "source": [
    "from collections import Counter\n",
    "\n",
    "list_of_words = text.split(' ')\n",
    "word_hist = Counter(list_of_words)\n",
    "word_counts = word_hist.most_common()"
   ]
  },
  {
   "cell_type": "markdown",
   "id": "84d7295c-b8a1-4ac9-b0ab-fbbb47545174",
   "metadata": {},
   "source": [
    "### Compute BOW feature on test sentence"
   ]
  },
  {
   "cell_type": "code",
   "execution_count": null,
   "id": "682bb1d1",
   "metadata": {},
   "outputs": [],
   "source": [
    "import numpy as np\n",
    "\n",
    "text = \"natural language processing with neural networks\"\n",
    "\n",
    "bow_featurizer = {word: idx for idx, word in enumerate(word_hist)}\n",
    "feature = np.zeros(shape=(len(bow_featurizer)))\n",
    "for word in text.split(\" \"):\n",
    "    feature[bow_featurizer[word]] += 1\n",
    "    \n",
    "len(bow_featurizer), sum(feature)"
   ]
  }
 ],
 "metadata": {
  "interpreter": {
   "hash": "f986a2461f5786d3cd1b7b30856ec5b277970b9a8cbc7da222a05b7f2c0b8370"
  },
  "kernelspec": {
   "display_name": "Python 3 (ipykernel)",
   "language": "python",
   "name": "python3"
  },
  "language_info": {
   "codemirror_mode": {
    "name": "ipython",
    "version": 3
   },
   "file_extension": ".py",
   "mimetype": "text/x-python",
   "name": "python",
   "nbconvert_exporter": "python",
   "pygments_lexer": "ipython3",
   "version": "3.7.9"
  }
 },
 "nbformat": 4,
 "nbformat_minor": 5
}
